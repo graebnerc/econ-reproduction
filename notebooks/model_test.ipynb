{
 "nbformat": 4,
 "nbformat_minor": 2,
 "metadata": {
  "language_info": {
   "name": "python",
   "codemirror_mode": {
    "name": "ipython",
    "version": 3
   },
   "version": "3.7.6-final"
  },
  "orig_nbformat": 2,
  "file_extension": ".py",
  "mimetype": "text/x-python",
  "name": "python",
  "npconvert_exporter": "python",
  "pygments_lexer": "ipython3",
  "version": 3,
  "kernelspec": {
   "name": "python37464bitbasecondabdbe60a3493743b7b18c2743d6de6b56",
   "display_name": "Python 3.7.4 64-bit ('base': conda)"
  }
 },
 "cells": [
  {
   "cell_type": "markdown",
   "metadata": {},
   "source": [
    "# Eine Notebook zur Modell Entwicklung\n",
    "\n",
    "In einem solchen Notebook könnt ihr Code schreiben, ausführen und einfach texten. Das ist hilfreich während der Entwicklung. \n",
    "Unten nur ein paar Beispiele wie man das verwenden kann."
   ]
  },
  {
   "cell_type": "markdown",
   "metadata": {},
   "source": [
    "## Importe \n",
    "\n",
    "Zunächst einmal die relevanten Pakete importieren. Dazu gehört auch euer Skript, damit wir von dort die Klassen verwenden können.\n",
    "\n",
    "Dazu müssen wir erstmal sicherstellen, dass wir den Grundordner eures Projekts als Arbeitsverzeichnis nehmen und nicht den Ordner in dem dieses Notebook liegt. Also gehen wir mit `os.chdir(\"..\")` einen Ordner nach oben.\n",
    "\n",
    "Dann fügen wir den Ordner `python` zum Suchpfad hinzu, damit wir die Skripte, die dort drinnen liegen, direkt ansprechen und importieren können. Das geht mit `sys.path.insert(0, './python')`"
   ]
  },
  {
   "cell_type": "code",
   "execution_count": 1,
   "metadata": {},
   "outputs": [
    {
     "output_type": "stream",
     "name": "stdout",
     "text": "Current working directory:  /Users/claudius/work-claudius/teaching/19wise_cusanus-ABM/modelle_teilnehmerinnen/econ-reproduction\n"
    }
   ],
   "source": [
    "import os\n",
    "os.chdir(\"..\")\n",
    "print(\"Current working directory: \", os.getcwd())\n",
    "import sys\n",
    "sys.path.insert(0, './python')"
   ]
  },
  {
   "cell_type": "code",
   "execution_count": 2,
   "metadata": {},
   "outputs": [],
   "source": [
    "import numpy as np \n",
    "import economics_repro\n",
    "from economics_repro import Scientific_Institutions\n",
    "from economics_repro import Paradigm"
   ]
  },
  {
   "cell_type": "markdown",
   "metadata": {},
   "source": [
    "## Code Experimente\n",
    "\n",
    "Jetzt können wir den Code aus eurem Skript aufrufen und damit rumprobieren:"
   ]
  },
  {
   "cell_type": "code",
   "execution_count": 3,
   "metadata": {},
   "outputs": [
    {
     "output_type": "error",
     "ename": "TypeError",
     "evalue": "__init__() missing 2 required positional arguments: 'intrinsic_value_list' and 'n_paradigm'",
     "traceback": [
      "\u001b[0;31m---------------------------------------------------------------------------\u001b[0m",
      "\u001b[0;31mTypeError\u001b[0m                                 Traceback (most recent call last)",
      "\u001b[0;32m<ipython-input-3-c818c4b12ba3>\u001b[0m in \u001b[0;36m<module>\u001b[0;34m\u001b[0m\n\u001b[1;32m      1\u001b[0m \u001b[0manzahl_econs\u001b[0m \u001b[0;34m=\u001b[0m \u001b[0;36m10\u001b[0m\u001b[0;34m\u001b[0m\u001b[0;34m\u001b[0m\u001b[0m\n\u001b[1;32m      2\u001b[0m \u001b[0manzahl_paradigmen\u001b[0m \u001b[0;34m=\u001b[0m \u001b[0;36m2\u001b[0m\u001b[0;34m\u001b[0m\u001b[0;34m\u001b[0m\u001b[0m\n\u001b[0;32m----> 3\u001b[0;31m \u001b[0minstitutionen_klasse\u001b[0m \u001b[0;34m=\u001b[0m \u001b[0mScientific_Institutions\u001b[0m\u001b[0;34m(\u001b[0m\u001b[0manzahl_econs\u001b[0m\u001b[0;34m,\u001b[0m \u001b[0manzahl_paradigmen\u001b[0m\u001b[0;34m)\u001b[0m\u001b[0;34m\u001b[0m\u001b[0;34m\u001b[0m\u001b[0m\n\u001b[0m",
      "\u001b[0;32m~/work-claudius/teaching/19wise_cusanus-ABM/modelle_teilnehmerinnen/econ-reproduction/python/economics_repro.py\u001b[0m in \u001b[0;36m__init__\u001b[0;34m(self, n_economists, n_paradigm)\u001b[0m\n\u001b[1;32m     43\u001b[0m         \u001b[0mself\u001b[0m\u001b[0;34m.\u001b[0m\u001b[0mn_economists\u001b[0m \u001b[0;34m=\u001b[0m \u001b[0mn_economists\u001b[0m\u001b[0;34m\u001b[0m\u001b[0;34m\u001b[0m\u001b[0m\n\u001b[1;32m     44\u001b[0m         \u001b[0mself\u001b[0m\u001b[0;34m.\u001b[0m\u001b[0mn_paradigm\u001b[0m \u001b[0;34m=\u001b[0m \u001b[0mn_paradigm\u001b[0m\u001b[0;34m\u001b[0m\u001b[0;34m\u001b[0m\u001b[0m\n\u001b[0;32m---> 45\u001b[0;31m         \u001b[0mself\u001b[0m\u001b[0;34m.\u001b[0m\u001b[0meconomists\u001b[0m \u001b[0;34m=\u001b[0m \u001b[0;34m[\u001b[0m\u001b[0mEconomists\u001b[0m\u001b[0;34m(\u001b[0m\u001b[0mk\u001b[0m\u001b[0;34m)\u001b[0m \u001b[0;32mfor\u001b[0m \u001b[0mk\u001b[0m \u001b[0;32min\u001b[0m \u001b[0mrange\u001b[0m\u001b[0;34m(\u001b[0m\u001b[0mn_economists\u001b[0m\u001b[0;34m)\u001b[0m\u001b[0;34m]\u001b[0m\u001b[0;34m\u001b[0m\u001b[0;34m\u001b[0m\u001b[0m\n\u001b[0m\u001b[1;32m     46\u001b[0m         \u001b[0mself\u001b[0m\u001b[0;34m.\u001b[0m\u001b[0mparadigm\u001b[0m \u001b[0;34m=\u001b[0m \u001b[0;34m[\u001b[0m\u001b[0mParadigm\u001b[0m\u001b[0;34m(\u001b[0m\u001b[0mj\u001b[0m\u001b[0;34m)\u001b[0m \u001b[0;32mfor\u001b[0m \u001b[0mj\u001b[0m \u001b[0;32min\u001b[0m \u001b[0mrange\u001b[0m\u001b[0;34m(\u001b[0m\u001b[0mn_paradigm\u001b[0m\u001b[0;34m)\u001b[0m\u001b[0;34m]\u001b[0m \u001b[0;31m# TODO CG würde ich anders benennen, siehe zeile 50\u001b[0m\u001b[0;34m\u001b[0m\u001b[0;34m\u001b[0m\u001b[0m\n\u001b[1;32m     47\u001b[0m \u001b[0;34m\u001b[0m\u001b[0m\n",
      "\u001b[0;32m~/work-claudius/teaching/19wise_cusanus-ABM/modelle_teilnehmerinnen/econ-reproduction/python/economics_repro.py\u001b[0m in \u001b[0;36m<listcomp>\u001b[0;34m(.0)\u001b[0m\n\u001b[1;32m     43\u001b[0m         \u001b[0mself\u001b[0m\u001b[0;34m.\u001b[0m\u001b[0mn_economists\u001b[0m \u001b[0;34m=\u001b[0m \u001b[0mn_economists\u001b[0m\u001b[0;34m\u001b[0m\u001b[0;34m\u001b[0m\u001b[0m\n\u001b[1;32m     44\u001b[0m         \u001b[0mself\u001b[0m\u001b[0;34m.\u001b[0m\u001b[0mn_paradigm\u001b[0m \u001b[0;34m=\u001b[0m \u001b[0mn_paradigm\u001b[0m\u001b[0;34m\u001b[0m\u001b[0;34m\u001b[0m\u001b[0m\n\u001b[0;32m---> 45\u001b[0;31m         \u001b[0mself\u001b[0m\u001b[0;34m.\u001b[0m\u001b[0meconomists\u001b[0m \u001b[0;34m=\u001b[0m \u001b[0;34m[\u001b[0m\u001b[0mEconomists\u001b[0m\u001b[0;34m(\u001b[0m\u001b[0mk\u001b[0m\u001b[0;34m)\u001b[0m \u001b[0;32mfor\u001b[0m \u001b[0mk\u001b[0m \u001b[0;32min\u001b[0m \u001b[0mrange\u001b[0m\u001b[0;34m(\u001b[0m\u001b[0mn_economists\u001b[0m\u001b[0;34m)\u001b[0m\u001b[0;34m]\u001b[0m\u001b[0;34m\u001b[0m\u001b[0;34m\u001b[0m\u001b[0m\n\u001b[0m\u001b[1;32m     46\u001b[0m         \u001b[0mself\u001b[0m\u001b[0;34m.\u001b[0m\u001b[0mparadigm\u001b[0m \u001b[0;34m=\u001b[0m \u001b[0;34m[\u001b[0m\u001b[0mParadigm\u001b[0m\u001b[0;34m(\u001b[0m\u001b[0mj\u001b[0m\u001b[0;34m)\u001b[0m \u001b[0;32mfor\u001b[0m \u001b[0mj\u001b[0m \u001b[0;32min\u001b[0m \u001b[0mrange\u001b[0m\u001b[0;34m(\u001b[0m\u001b[0mn_paradigm\u001b[0m\u001b[0;34m)\u001b[0m\u001b[0;34m]\u001b[0m \u001b[0;31m# TODO CG würde ich anders benennen, siehe zeile 50\u001b[0m\u001b[0;34m\u001b[0m\u001b[0;34m\u001b[0m\u001b[0m\n\u001b[1;32m     47\u001b[0m \u001b[0;34m\u001b[0m\u001b[0m\n",
      "\u001b[0;31mTypeError\u001b[0m: __init__() missing 2 required positional arguments: 'intrinsic_value_list' and 'n_paradigm'"
     ]
    }
   ],
   "source": [
    "anzahl_econs = 10\n",
    "anzahl_paradigmen = 2\n",
    "institutionen_klasse = Scientific_Institutions(anzahl_econs, anzahl_paradigmen)"
   ]
  },
  {
   "cell_type": "markdown",
   "metadata": {},
   "source": [
    "Hier sehr ihr jetzt wo noch ein Fehler auftaucht und ihr könnt direkt daran arbeiten. Das Problem ist, dass ihr in eurem Code nicht alle Argumente bereit gestellt habt, die die `__init__()` Funktion von `Economists` benötigt.\n",
    "\n",
    "Das könnt ihr jetzt fixen, dann den Notebook neustarten (wichtig, sonst werden eure Änderungen nicht berücksichtigt) und weiterprobieren."
   ]
  },
  {
   "cell_type": "markdown",
   "metadata": {},
   "source": [
    "Was schon 'funktioniert' ist folgendes (wobei ich nicht weiß was `paradigmatic_dominance` sein soll):"
   ]
  },
  {
   "cell_type": "code",
   "execution_count": 4,
   "metadata": {},
   "outputs": [],
   "source": [
    "neoklassik = Paradigm(\"Neoklassik\", 50, True)"
   ]
  },
  {
   "cell_type": "code",
   "execution_count": 5,
   "metadata": {},
   "outputs": [
    {
     "output_type": "execute_result",
     "data": {
      "text/plain": "<economics_repro.Paradigm at 0x112b36f90>"
     },
     "metadata": {},
     "execution_count": 5
    }
   ],
   "source": [
    "neoklassik"
   ]
  },
  {
   "cell_type": "code",
   "execution_count": 6,
   "metadata": {},
   "outputs": [
    {
     "output_type": "execute_result",
     "data": {
      "text/plain": "'Neoklassik'"
     },
     "metadata": {},
     "execution_count": 6
    }
   ],
   "source": [
    "neoklassik.name"
   ]
  },
  {
   "cell_type": "code",
   "execution_count": 7,
   "metadata": {},
   "outputs": [
    {
     "output_type": "execute_result",
     "data": {
      "text/plain": "0"
     },
     "metadata": {},
     "execution_count": 7
    }
   ],
   "source": [
    "neoklassik.paradigmatic_dominance"
   ]
  },
  {
   "cell_type": "code",
   "execution_count": null,
   "metadata": {},
   "outputs": [],
   "source": []
  }
 ]
}