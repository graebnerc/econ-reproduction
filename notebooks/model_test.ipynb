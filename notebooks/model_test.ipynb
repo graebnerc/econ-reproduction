{
 "cells": [
  {
   "cell_type": "markdown",
   "metadata": {},
   "source": [
    "# Eine Notebook zur Modell Entwicklung\n",
    "\n",
    "In einem solchen Notebook könnt ihr Code schreiben, ausführen und einfach texten. Das ist hilfreich während der Entwicklung. \n",
    "Unten nur ein paar Beispiele wie man das verwenden kann."
   ]
  },
  {
   "cell_type": "markdown",
   "metadata": {},
   "source": [
    "## Importe \n",
    "\n",
    "Zunächst einmal die relevanten Pakete importieren. Dazu gehört auch euer Skript, damit wir von dort die Klassen verwenden können.\n",
    "\n",
    "Dazu müssen wir erstmal sicherstellen, dass wir den Grundordner eures Projekts als Arbeitsverzeichnis nehmen und nicht den Ordner in dem dieses Notebook liegt. Also gehen wir mit `os.chdir(\"..\")` einen Ordner nach oben.\n",
    "\n",
    "Dann fügen wir den Ordner `python` zum Suchpfad hinzu, damit wir die Skripte, die dort drinnen liegen, direkt ansprechen und importieren können. Das geht mit `sys.path.insert(0, './python')`"
   ]
  },
  {
   "cell_type": "code",
   "execution_count": 1,
   "metadata": {},
   "outputs": [
    {
     "name": "stdout",
     "output_type": "stream",
     "text": [
      "Current working directory:  /Users/claudius/work-claudius/teaching/19wise_cusanus-ABM/modelle_teilnehmerinnen/econ-reproduction\n"
     ]
    }
   ],
   "source": [
    "import os\n",
    "os.chdir(\"..\")\n",
    "print(\"Current working directory: \", os.getcwd())\n",
    "import sys\n",
    "sys.path.insert(0, './python')"
   ]
  },
  {
   "cell_type": "code",
   "execution_count": 2,
   "metadata": {},
   "outputs": [],
   "source": [
    "import numpy as np \n",
    "import economics_repro\n",
    "from economics_repro import Scientific_Institutions\n",
    "from economics_repro import Paradigm"
   ]
  },
  {
   "cell_type": "markdown",
   "metadata": {},
   "source": [
    "## Code Experimente\n",
    "\n",
    "Jetzt können wir den Code aus eurem Skript aufrufen und damit rumprobieren:"
   ]
  },
  {
   "cell_type": "code",
   "execution_count": 3,
   "metadata": {},
   "outputs": [],
   "source": [
    "anzahl_econs = 10\n",
    "anzahl_paradigmen = 2\n",
    "institutionen_klasse = Scientific_Institutions(anzahl_econs, anzahl_paradigmen)"
   ]
  },
  {
   "cell_type": "code",
   "execution_count": 4,
   "metadata": {},
   "outputs": [],
   "source": [
    "institutionen_klasse.update_academic_power()"
   ]
  },
  {
   "cell_type": "code",
   "execution_count": 5,
   "metadata": {},
   "outputs": [
    {
     "data": {
      "text/plain": [
       "[<economists.Economist at 0x1103cd210>,\n",
       " <economists.Economist at 0x1103cd250>,\n",
       " <economists.Economist at 0x1103cd310>,\n",
       " <economists.Economist at 0x1103cd3d0>,\n",
       " <economists.Economist at 0x1103cd490>,\n",
       " <economists.Economist at 0x1103cd610>,\n",
       " <economists.Economist at 0x1103cd650>,\n",
       " <economists.Economist at 0x1103cd710>,\n",
       " <economists.Economist at 0x1103cd7d0>,\n",
       " <economists.Economist at 0x1103cd550>]"
      ]
     },
     "execution_count": 5,
     "metadata": {},
     "output_type": "execute_result"
    }
   ],
   "source": [
    "institutionen_klasse.economists"
   ]
  },
  {
   "cell_type": "markdown",
   "metadata": {},
   "source": [
    "Hier sehr ihr jetzt wo noch ein Fehler auftaucht und ihr könnt direkt daran arbeiten. Das Problem ist, dass ihr in eurem Code nicht alle Argumente bereit gestellt habt, die die `__init__()` Funktion von `Economists` benötigt.\n",
    "\n",
    "Das könnt ihr jetzt fixen, dann den Notebook neustarten (wichtig, sonst werden eure Änderungen nicht berücksichtigt) und weiterprobieren."
   ]
  },
  {
   "cell_type": "markdown",
   "metadata": {},
   "source": [
    "Was schon 'funktioniert' ist folgendes (wobei ich nicht weiß was `paradigmatic_dominance` sein soll):"
   ]
  },
  {
   "cell_type": "code",
   "execution_count": 8,
   "metadata": {},
   "outputs": [],
   "source": [
    "neoklassik = Paradigm(\"Neoklassik\", 50, True)"
   ]
  },
  {
   "cell_type": "code",
   "execution_count": 9,
   "metadata": {},
   "outputs": [
    {
     "data": {
      "text/plain": [
       "<economics_repro.Paradigm at 0x1055c0f90>"
      ]
     },
     "execution_count": 9,
     "metadata": {},
     "output_type": "execute_result"
    }
   ],
   "source": [
    "neoklassik"
   ]
  },
  {
   "cell_type": "code",
   "execution_count": 10,
   "metadata": {},
   "outputs": [
    {
     "data": {
      "text/plain": [
       "'Neoklassik'"
      ]
     },
     "execution_count": 10,
     "metadata": {},
     "output_type": "execute_result"
    }
   ],
   "source": [
    "neoklassik.name"
   ]
  },
  {
   "cell_type": "code",
   "execution_count": 11,
   "metadata": {},
   "outputs": [
    {
     "data": {
      "text/plain": [
       "0"
      ]
     },
     "execution_count": 11,
     "metadata": {},
     "output_type": "execute_result"
    }
   ],
   "source": [
    "neoklassik.paradigmatic_dominance"
   ]
  },
  {
   "cell_type": "code",
   "execution_count": null,
   "metadata": {},
   "outputs": [],
   "source": []
  }
 ],
 "metadata": {
  "file_extension": ".py",
  "kernelspec": {
   "display_name": "Python 3.7.4 64-bit ('base': conda)",
   "language": "python",
   "name": "python37464bitbasecondabdbe60a3493743b7b18c2743d6de6b56"
  },
  "language_info": {
   "codemirror_mode": {
    "name": "ipython",
    "version": 3
   },
   "file_extension": ".py",
   "mimetype": "text/x-python",
   "name": "python",
   "nbconvert_exporter": "python",
   "pygments_lexer": "ipython3",
   "version": "3.7.6"
  },
  "mimetype": "text/x-python",
  "name": "python",
  "npconvert_exporter": "python",
  "pygments_lexer": "ipython3",
  "version": 3
 },
 "nbformat": 4,
 "nbformat_minor": 2
}
